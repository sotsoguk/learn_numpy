{
 "cells": [
  {
   "cell_type": "markdown",
   "metadata": {},
   "source": [
    "# 2. NumPy Array Ex\n",
    "[https://www.w3resource.com/python-exercises/numpy/basic/index.php]"
   ]
  },
  {
   "cell_type": "code",
   "execution_count": 1,
   "metadata": {},
   "outputs": [],
   "source": [
    "import numpy as np"
   ]
  },
  {
   "cell_type": "code",
   "execution_count": 4,
   "metadata": {},
   "outputs": [
    {
     "name": "stdout",
     "output_type": "stream",
     "text": [
      "1.18.1\n"
     ]
    }
   ],
   "source": [
    "#1.\n",
    "print(np.__version__)"
   ]
  },
  {
   "cell_type": "code",
   "execution_count": 5,
   "metadata": {},
   "outputs": [
    {
     "name": "stdout",
     "output_type": "stream",
     "text": [
      "[12.23 13.32]\n"
     ]
    }
   ],
   "source": [
    "#2.\n",
    "a = [12.23,13.32]\n",
    "aa = np.array(a)\n",
    "print(aa)"
   ]
  },
  {
   "cell_type": "code",
   "execution_count": 7,
   "metadata": {},
   "outputs": [
    {
     "name": "stdout",
     "output_type": "stream",
     "text": [
      "[[ 2  3  4]\n",
      " [ 5  6  7]\n",
      " [ 8  9 10]]\n"
     ]
    }
   ],
   "source": [
    "# 3.Write a NumPy program to create a 3x3 matrix with values ranging from 2 to 10\n",
    "a = np.arange(2,11).reshape(3,-1)\n",
    "print(a)"
   ]
  },
  {
   "cell_type": "code",
   "execution_count": 8,
   "metadata": {},
   "outputs": [
    {
     "name": "stdout",
     "output_type": "stream",
     "text": [
      "[ 0.  0.  0.  0.  0.  0. 11.  0.  0.  0.]\n"
     ]
    }
   ],
   "source": [
    "#4. Write a NumPy program to create a null vector of size 10 and update sixth value to 11\n",
    "a = np.zeros(10)\n",
    "a[6] = 11\n",
    "print(a)"
   ]
  },
  {
   "cell_type": "code",
   "execution_count": 9,
   "metadata": {},
   "outputs": [
    {
     "name": "stdout",
     "output_type": "stream",
     "text": [
      "[12 13 14 15 16 17 18 19 20 21 22 23 24 25 26 27 28 29 30 31 32 33 34 35\n",
      " 36 37]\n",
      "[37 36 35 34 33 32 31 30 29 28 27 26 25 24 23 22 21 20 19 18 17 16 15 14\n",
      " 13 12]\n"
     ]
    }
   ],
   "source": [
    "# 6. Write a NumPy program to reverse an array (first element becomes last)\n",
    "a = np.arange(12,38)\n",
    "ar = a[::-1]\n",
    "print(a)\n",
    "print(ar)"
   ]
  },
  {
   "cell_type": "code",
   "execution_count": 11,
   "metadata": {},
   "outputs": [
    {
     "name": "stdout",
     "output_type": "stream",
     "text": [
      "[1. 2. 3. 4.]\n"
     ]
    }
   ],
   "source": [
    "# 7. Write a NumPy program to convert an array to a float type.\n",
    "a = np.arange(1,5)\n",
    "af = np.asfarray(a)\n",
    "print(af)"
   ]
  },
  {
   "cell_type": "code",
   "execution_count": 13,
   "metadata": {},
   "outputs": [
    {
     "name": "stdout",
     "output_type": "stream",
     "text": [
      "[[1. 1. 1. 1. 1.]\n",
      " [1. 0. 0. 0. 1.]\n",
      " [1. 0. 0. 0. 1.]\n",
      " [1. 0. 0. 0. 1.]\n",
      " [1. 1. 1. 1. 1.]]\n"
     ]
    }
   ],
   "source": [
    "# 8. Write a NumPy program to create a 2d array with 1 on the border and 0 inside.\n",
    "n = 5\n",
    "a = np.ones((n,n))\n",
    "a[1:-1,1:-1] = 0\n",
    "print(a)"
   ]
  },
  {
   "cell_type": "code",
   "execution_count": 15,
   "metadata": {},
   "outputs": [
    {
     "name": "stdout",
     "output_type": "stream",
     "text": [
      "[[0. 0. 0. 0. 0.]\n",
      " [0. 1. 1. 1. 0.]\n",
      " [0. 1. 1. 1. 0.]\n",
      " [0. 1. 1. 1. 0.]\n",
      " [0. 0. 0. 0. 0.]]\n"
     ]
    }
   ],
   "source": [
    "# 9. add a border of 0 around array\n",
    "a = np.ones((3,3))\n",
    "a = np.pad(a,pad_width = 1, mode='constant', constant_values = 0)\n",
    "print(a)"
   ]
  },
  {
   "cell_type": "code",
   "execution_count": 16,
   "metadata": {},
   "outputs": [
    {
     "name": "stdout",
     "output_type": "stream",
     "text": [
      "[[0. 1. 0. 1. 0. 1. 0. 1.]\n",
      " [1. 0. 1. 0. 1. 0. 1. 0.]\n",
      " [0. 1. 0. 1. 0. 1. 0. 1.]\n",
      " [1. 0. 1. 0. 1. 0. 1. 0.]\n",
      " [0. 1. 0. 1. 0. 1. 0. 1.]\n",
      " [1. 0. 1. 0. 1. 0. 1. 0.]\n",
      " [0. 1. 0. 1. 0. 1. 0. 1.]\n",
      " [1. 0. 1. 0. 1. 0. 1. 0.]]\n"
     ]
    }
   ],
   "source": [
    "# 10. Write a NumPy program to create a 8x8 matrix and fill it with a checkerboard pattern\n",
    "a = np.zeros((8,8))\n",
    "a[1::2,::2] = 1\n",
    "a[::2,1::2] = 1\n",
    "print(a)"
   ]
  },
  {
   "cell_type": "code",
   "execution_count": 20,
   "metadata": {},
   "outputs": [
    {
     "name": "stdout",
     "output_type": "stream",
     "text": [
      "[1 2 3 4]\n",
      "[[1 2 3]\n",
      " [2 3 4]]\n"
     ]
    }
   ],
   "source": [
    "# 11.\n",
    "arr = [1,2,3,4]\n",
    "a = np.asarray(arr)\n",
    "print(a)\n",
    "b = ([1,2,3],[2,3,4])\n",
    "bs = np.array(b)\n",
    "print(bs)"
   ]
  },
  {
   "cell_type": "code",
   "execution_count": 27,
   "metadata": {},
   "outputs": [
    {
     "name": "stdout",
     "output_type": "stream",
     "text": [
      "[10 20 30 40 50 60 70 80 90]\n"
     ]
    }
   ],
   "source": [
    "# 12. Write a NumPy program to append values to the end of an array.\n",
    "a = np.arange(10,31,10)\n",
    "app = np.arange(40,91,10)\n",
    "a = np.append(a,app)\n",
    "print(a)"
   ]
  },
  {
   "cell_type": "code",
   "execution_count": 29,
   "metadata": {},
   "outputs": [
    {
     "name": "stdout",
     "output_type": "stream",
     "text": [
      "[[6.79038654e-313 6.79038653e-313 2.37663529e-312 2.05833592e-312]\n",
      " [2.05833592e-312 2.18565567e-312 8.48798317e-313 1.01855798e-312]\n",
      " [1.08221785e-312 9.33678148e-313 1.01855798e-312 1.65949350e-076]]\n",
      "[[5. 5. 5. 5.]\n",
      " [5. 5. 5. 5.]\n",
      " [5. 5. 5. 5.]]\n"
     ]
    }
   ],
   "source": [
    "# 13. Write a NumPy program to create an empty and a full array. \n",
    "a = np.empty((3,4))\n",
    "b = np.ones((3,4)) * 5\n",
    "print(a)\n",
    "print(b)"
   ]
  },
  {
   "cell_type": "code",
   "execution_count": 36,
   "metadata": {},
   "outputs": [
    {
     "name": "stdout",
     "output_type": "stream",
     "text": [
      "[ 0.   12.   45.21 34.   99.91]\n",
      "[-17.77777778 -11.11111111   7.33888889   1.11111111  37.72777778]\n"
     ]
    }
   ],
   "source": [
    "# 14 Write a NumPy program to convert the values of Centigrade degrees into Fahrenheit degrees. \n",
    "f = np.array([0,12,45.21,34,99.91])\n",
    "def f2c(fs):\n",
    "    return 5*fs/9-5*32/9\n",
    "c = f2c(f)\n",
    "print(f)\n",
    "print(f'{c}')"
   ]
  },
  {
   "cell_type": "code",
   "execution_count": 41,
   "metadata": {},
   "outputs": [
    {
     "data": {
      "text/plain": [
       "array([0. , 0.7])"
      ]
     },
     "execution_count": 41,
     "metadata": {},
     "output_type": "execute_result"
    }
   ],
   "source": [
    "# 15. 15. Write a NumPy program to find the real and imaginary parts of an array of complex numbers\n",
    "a = np.array([1+0j,0.7+0.7j])\n",
    "np.real(a)\n",
    "np.imag(a)\n",
    "a.real\n",
    "a.imag"
   ]
  },
  {
   "cell_type": "code",
   "execution_count": 43,
   "metadata": {},
   "outputs": [
    {
     "name": "stdout",
     "output_type": "stream",
     "text": [
      "3\n",
      "8\n",
      "24\n"
     ]
    }
   ],
   "source": [
    "# 16. Write a NumPy program to find the number of elements of an array, \n",
    "# length of one array element in bytes and total bytes consumed by the elements.\n",
    "a = np.array([1,2,3],dtype=np.float64)\n",
    "print(a.size)\n",
    "print(a.itemsize)\n",
    "print(a.nbytes)"
   ]
  },
  {
   "cell_type": "code",
   "execution_count": 46,
   "metadata": {},
   "outputs": [
    {
     "name": "stdout",
     "output_type": "stream",
     "text": [
      "[ True False False  True False]\n",
      "[ True  True]\n"
     ]
    }
   ],
   "source": [
    "# 17. Write a NumPy program to test whether each element of a 1-D array is also present in a second array. \n",
    "a = np.array([0,10,20,40,60])\n",
    "b = np.array([0,40])\n",
    "print(np.in1d(a,b))\n",
    "print(np.in1d(b,a))"
   ]
  },
  {
   "cell_type": "code",
   "execution_count": 47,
   "metadata": {},
   "outputs": [
    {
     "name": "stdout",
     "output_type": "stream",
     "text": [
      "[10 40]\n",
      "[10 40]\n"
     ]
    }
   ],
   "source": [
    "# 18. Write a NumPy program to find common values between two arrays. \n",
    "a = np.array([0,10,20,40,60])\n",
    "b = np.array([10,30,40])\n",
    "print(np.intersect1d(a,b))\n",
    "print(np.intersect1d(b,a))"
   ]
  },
  {
   "cell_type": "code",
   "execution_count": 48,
   "metadata": {},
   "outputs": [
    {
     "name": "stdout",
     "output_type": "stream",
     "text": [
      "[10 20 30]\n"
     ]
    }
   ],
   "source": [
    "# 19. Write a NumPy program to get the unique elements of an array.\n",
    "a = np.array([10,10,20,20,30,30])\n",
    "print(np.unique(a))"
   ]
  },
  {
   "cell_type": "code",
   "execution_count": 50,
   "metadata": {},
   "outputs": [
    {
     "name": "stdout",
     "output_type": "stream",
     "text": [
      "Array1:  [ 0 10 20 40 60 80]\n",
      "Array2:  [10, 30, 40, 50, 70]\n",
      "Unique values in array1 that are not in array2:\n",
      "[ 0 20 60 80]\n",
      "[30 50 70]\n"
     ]
    }
   ],
   "source": [
    "# 20. \n",
    "array1 = np.array([0, 10, 20, 40, 60, 80])\n",
    "print(\"Array1: \",array1)\n",
    "array2 = [10, 30, 40, 50, 70]\n",
    "print(\"Array2: \",array2)\n",
    "print(\"Unique values in array1 that are not in array2:\")\n",
    "print(np.setdiff1d(array1, array2))\n",
    "print(np.setdiff1d(array2, array1))"
   ]
  },
  {
   "cell_type": "code",
   "execution_count": 51,
   "metadata": {},
   "outputs": [
    {
     "name": "stdout",
     "output_type": "stream",
     "text": [
      "Array1:  [ 0 10 20 40 60 80]\n",
      "Array2:  [10, 30, 40, 50, 70]\n",
      "Unique values that are in only one (not both) of the input arrays:\n",
      "[ 0 20 30 50 60 70 80]\n"
     ]
    }
   ],
   "source": [
    "# 21.\n",
    "array1 = np.array([0, 10, 20, 40, 60, 80])\n",
    "print(\"Array1: \",array1)\n",
    "array2 = [10, 30, 40, 50, 70]\n",
    "print(\"Array2: \",array2)\n",
    "print(\"Unique values that are in only one (not both) of the input arrays:\")\n",
    "print(np.setxor1d(array1, array2))"
   ]
  },
  {
   "cell_type": "code",
   "execution_count": 52,
   "metadata": {},
   "outputs": [
    {
     "name": "stdout",
     "output_type": "stream",
     "text": [
      "Array1:  [ 0 10 20 40 60 80]\n",
      "Array2:  [10, 30, 40, 50, 70]\n",
      "Unique sorted array of values that are in either of the two input arrays:\n",
      "[ 0 10 20 30 40 50 60 70 80]\n"
     ]
    }
   ],
   "source": [
    "# 22. \n",
    "array1 = np.array([0, 10, 20, 40, 60, 80])\n",
    "print(\"Array1: \",array1)\n",
    "array2 = [10, 30, 40, 50, 70]\n",
    "print(\"Array2: \",array2)\n",
    "print(\"Unique sorted array of values that are in either of the two input arrays:\")\n",
    "print(np.union1d(array1, array2))"
   ]
  },
  {
   "cell_type": "code",
   "execution_count": 53,
   "metadata": {},
   "outputs": [
    {
     "name": "stdout",
     "output_type": "stream",
     "text": [
      "False\n"
     ]
    }
   ],
   "source": [
    "# 23. 23. Write a NumPy program to test whether all elements in an array evaluate to True\n",
    "a = np.array([1,2,3,0])\n",
    "print(np.all(a))"
   ]
  },
  {
   "cell_type": "code",
   "execution_count": 54,
   "metadata": {},
   "outputs": [
    {
     "name": "stdout",
     "output_type": "stream",
     "text": [
      "True\n"
     ]
    }
   ],
   "source": [
    "# 23. 23. Write a NumPy program to test whether any elements in an array evaluate to True\n",
    "a = np.array([1,2,3,0])\n",
    "print(np.any(a))"
   ]
  },
  {
   "cell_type": "code",
   "execution_count": 64,
   "metadata": {},
   "outputs": [
    {
     "name": "stdout",
     "output_type": "stream",
     "text": [
      "[1 2 1 2]\n",
      "[[0 1]\n",
      " [1 0]]\n",
      "[[0 1 0 1 0 1 0 1]\n",
      " [1 0 1 0 1 0 1 0]\n",
      " [0 1 0 1 0 1 0 1]\n",
      " [1 0 1 0 1 0 1 0]\n",
      " [0 1 0 1 0 1 0 1]\n",
      " [1 0 1 0 1 0 1 0]\n",
      " [0 1 0 1 0 1 0 1]\n",
      " [1 0 1 0 1 0 1 0]]\n"
     ]
    }
   ],
   "source": [
    "# 25. repeat array, e.g [1,2] -> [1,2,1,2,]\n",
    "b = np.array([1,2])\n",
    "bt = np.tile(b,2)\n",
    "print(bt)\n",
    "a = np.array([[0,1],[1,0]])\n",
    "print(a)\n",
    "x = np.tile(a,(4,4))\n",
    "print(x)"
   ]
  },
  {
   "cell_type": "code",
   "execution_count": 71,
   "metadata": {},
   "outputs": [
    {
     "name": "stdout",
     "output_type": "stream",
     "text": [
      "[3 3 3 3]\n",
      "[[1 2 3 4]\n",
      " [1 2 3 4]]\n",
      "[1 1 2 2 3 3 4 4]\n"
     ]
    }
   ],
   "source": [
    "# 26 Write a NumPy program to repeat elements of an array\n",
    "a = np.repeat(3,4)\n",
    "print(a)\n",
    "b = np.repeat([[1,2,3,4]],2, axis = 0)\n",
    "print(b)\n",
    "\n",
    "c = np.repeat([1,2,3,4],2)\n",
    "print(c)"
   ]
  },
  {
   "cell_type": "code",
   "execution_count": 82,
   "metadata": {},
   "outputs": [
    {
     "name": "stdout",
     "output_type": "stream",
     "text": [
      "[[ 2 14  1 18]\n",
      " [12  7  3 19]\n",
      " [ 6 12 18  5]\n",
      " [17 19  1 17]\n",
      " [13 19 19 15]]\n",
      "[3 3 4 1]\n",
      "[3 3 2 1 1]\n",
      "7\n",
      "(1, 3)\n"
     ]
    }
   ],
   "source": [
    "# 27. 27. Write a NumPy program to find the indices of the maximum and minimum values along the given axis of an array.\n",
    "a = np.array([1,2,3,4,7,0,5])\n",
    "a[np.argmax(a)]\n",
    "\n",
    "b = np.random.randint(1,20,(5,4))\n",
    "print(b)\n",
    "print(np.argmax(b,axis = 0))\n",
    "print(np.argmax(b,axis = 1))\n",
    "print(np.argmax(b))\n",
    "#convert to 2d index\n",
    "ind = np.unravel_index(np.argmax(b,axis=None),b.shape)\n",
    "print(ind)"
   ]
  },
  {
   "cell_type": "code",
   "execution_count": 88,
   "metadata": {},
   "outputs": [
    {
     "name": "stdout",
     "output_type": "stream",
     "text": [
      "[[ 3  1  6]\n",
      " [ 5  4 12]\n",
      " [11  5 17]]\n",
      "[[ 1  5  6]\n",
      " [ 3  4 17]\n",
      " [ 5 11 12]]\n",
      "[[ 1  5  6]\n",
      " [ 3  4 17]\n",
      " [ 5 11 12]]\n"
     ]
    }
   ],
   "source": [
    "# 29. Write a NumPy program to sort an along the first, last axis of an array. \n",
    "a = np.random.randint(0,20,(3,3))\n",
    "print(np.sort(a,axis=0)) # along colums\n",
    "print(np.sort(a))\n",
    "print(np.sort(a,axis=-1)) # along rows\n"
   ]
  },
  {
   "cell_type": "code",
   "execution_count": null,
   "metadata": {},
   "outputs": [],
   "source": []
  }
 ],
 "metadata": {
  "kernelspec": {
   "display_name": "Python [conda env:root] *",
   "language": "python",
   "name": "conda-root-py"
  },
  "language_info": {
   "codemirror_mode": {
    "name": "ipython",
    "version": 3
   },
   "file_extension": ".py",
   "mimetype": "text/x-python",
   "name": "python",
   "nbconvert_exporter": "python",
   "pygments_lexer": "ipython3",
   "version": "3.7.6"
  }
 },
 "nbformat": 4,
 "nbformat_minor": 4
}
